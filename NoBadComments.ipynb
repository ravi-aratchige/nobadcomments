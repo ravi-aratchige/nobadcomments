{
 "cells": [
  {
   "cell_type": "markdown",
   "id": "940234d3-ad37-4e10-8b54-c8829a3ccedd",
   "metadata": {},
   "source": [
    "# NoBadComments - Comment Toxicity Classification using PyTorch\n",
    "\n",
    "Yes, it's exactly what the title says. There's toxic comments. There's PyTorch. There's NLP and deep learning. Much fun, such wow."
   ]
  },
  {
   "cell_type": "markdown",
   "id": "f0e6646c-4e7b-4260-b515-ccaa2fc4b436",
   "metadata": {},
   "source": [
    "---"
   ]
  },
  {
   "cell_type": "markdown",
   "id": "06143f4d-6673-4929-ac97-a22202ac2471",
   "metadata": {},
   "source": [
    "## 1. Getting Started\n",
    "\n",
    "First things first, let's import all of the necessary dependencies for this project."
   ]
  },
  {
   "cell_type": "code",
   "execution_count": 1,
   "id": "f5712fc1-9289-481d-8388-0879e2386e3c",
   "metadata": {},
   "outputs": [
    {
     "name": "stderr",
     "output_type": "stream",
     "text": [
      "/home/ravindu-aratchige/Documents/Machine Learning/pytorch-crash-course/env/lib/python3.12/site-packages/torchtext/data/__init__.py:4: UserWarning: \n",
      "/!\\ IMPORTANT WARNING ABOUT TORCHTEXT STATUS /!\\ \n",
      "Torchtext is deprecated and the last released version will be 0.18 (this one). You can silence this warning by calling the following at the beginnign of your scripts: `import torchtext; torchtext.disable_torchtext_deprecation_warning()`\n",
      "  warnings.warn(torchtext._TORCHTEXT_DEPRECATION_MSG)\n",
      "/home/ravindu-aratchige/Documents/Machine Learning/pytorch-crash-course/env/lib/python3.12/site-packages/torchtext/vocab/__init__.py:4: UserWarning: \n",
      "/!\\ IMPORTANT WARNING ABOUT TORCHTEXT STATUS /!\\ \n",
      "Torchtext is deprecated and the last released version will be 0.18 (this one). You can silence this warning by calling the following at the beginnign of your scripts: `import torchtext; torchtext.disable_torchtext_deprecation_warning()`\n",
      "  warnings.warn(torchtext._TORCHTEXT_DEPRECATION_MSG)\n",
      "/home/ravindu-aratchige/Documents/Machine Learning/pytorch-crash-course/env/lib/python3.12/site-packages/torchtext/utils.py:4: UserWarning: \n",
      "/!\\ IMPORTANT WARNING ABOUT TORCHTEXT STATUS /!\\ \n",
      "Torchtext is deprecated and the last released version will be 0.18 (this one). You can silence this warning by calling the following at the beginnign of your scripts: `import torchtext; torchtext.disable_torchtext_deprecation_warning()`\n",
      "  warnings.warn(torchtext._TORCHTEXT_DEPRECATION_MSG)\n"
     ]
    }
   ],
   "source": [
    "# General imports\n",
    "import os\n",
    "import numpy as np\n",
    "import pandas as pd\n",
    "import matplotlib.pyplot as plt\n",
    "\n",
    "# PyTorch imports\n",
    "import torch\n",
    "import torch.nn as nn\n",
    "from torch.utils.data import Dataset\n",
    "from torch.utils.data import DataLoader\n",
    "from torch.utils.data import random_split\n",
    "\n",
    "# Torchtext imports\n",
    "import torchtext\n",
    "from torchtext.data import get_tokenizer\n",
    "from torchtext.vocab import build_vocab_from_iterator\n",
    "\n",
    "# Disable `torchtext` deprecation warning\n",
    "torchtext.disable_torchtext_deprecation_warning()"
   ]
  },
  {
   "cell_type": "markdown",
   "id": "13241da9-386f-4d0e-aa12-87528903cb52",
   "metadata": {},
   "source": [
    "Next, we can load the training data from the `data/train.csv` file provided as part of the complete dataset."
   ]
  },
  {
   "cell_type": "code",
   "execution_count": 2,
   "id": "3ff4053e-4c49-4dcd-9f8f-b00414d5b950",
   "metadata": {},
   "outputs": [
    {
     "data": {
      "text/html": [
       "<div>\n",
       "<style scoped>\n",
       "    .dataframe tbody tr th:only-of-type {\n",
       "        vertical-align: middle;\n",
       "    }\n",
       "\n",
       "    .dataframe tbody tr th {\n",
       "        vertical-align: top;\n",
       "    }\n",
       "\n",
       "    .dataframe thead th {\n",
       "        text-align: right;\n",
       "    }\n",
       "</style>\n",
       "<table border=\"1\" class=\"dataframe\">\n",
       "  <thead>\n",
       "    <tr style=\"text-align: right;\">\n",
       "      <th></th>\n",
       "      <th>id</th>\n",
       "      <th>comment_text</th>\n",
       "      <th>toxic</th>\n",
       "      <th>severe_toxic</th>\n",
       "      <th>obscene</th>\n",
       "      <th>threat</th>\n",
       "      <th>insult</th>\n",
       "      <th>identity_hate</th>\n",
       "    </tr>\n",
       "  </thead>\n",
       "  <tbody>\n",
       "    <tr>\n",
       "      <th>0</th>\n",
       "      <td>0000997932d777bf</td>\n",
       "      <td>Explanation\\nWhy the edits made under my usern...</td>\n",
       "      <td>0</td>\n",
       "      <td>0</td>\n",
       "      <td>0</td>\n",
       "      <td>0</td>\n",
       "      <td>0</td>\n",
       "      <td>0</td>\n",
       "    </tr>\n",
       "    <tr>\n",
       "      <th>1</th>\n",
       "      <td>000103f0d9cfb60f</td>\n",
       "      <td>D'aww! He matches this background colour I'm s...</td>\n",
       "      <td>0</td>\n",
       "      <td>0</td>\n",
       "      <td>0</td>\n",
       "      <td>0</td>\n",
       "      <td>0</td>\n",
       "      <td>0</td>\n",
       "    </tr>\n",
       "    <tr>\n",
       "      <th>2</th>\n",
       "      <td>000113f07ec002fd</td>\n",
       "      <td>Hey man, I'm really not trying to edit war. It...</td>\n",
       "      <td>0</td>\n",
       "      <td>0</td>\n",
       "      <td>0</td>\n",
       "      <td>0</td>\n",
       "      <td>0</td>\n",
       "      <td>0</td>\n",
       "    </tr>\n",
       "    <tr>\n",
       "      <th>3</th>\n",
       "      <td>0001b41b1c6bb37e</td>\n",
       "      <td>\"\\nMore\\nI can't make any real suggestions on ...</td>\n",
       "      <td>0</td>\n",
       "      <td>0</td>\n",
       "      <td>0</td>\n",
       "      <td>0</td>\n",
       "      <td>0</td>\n",
       "      <td>0</td>\n",
       "    </tr>\n",
       "    <tr>\n",
       "      <th>4</th>\n",
       "      <td>0001d958c54c6e35</td>\n",
       "      <td>You, sir, are my hero. Any chance you remember...</td>\n",
       "      <td>0</td>\n",
       "      <td>0</td>\n",
       "      <td>0</td>\n",
       "      <td>0</td>\n",
       "      <td>0</td>\n",
       "      <td>0</td>\n",
       "    </tr>\n",
       "  </tbody>\n",
       "</table>\n",
       "</div>"
      ],
      "text/plain": [
       "                 id                                       comment_text  toxic  \\\n",
       "0  0000997932d777bf  Explanation\\nWhy the edits made under my usern...      0   \n",
       "1  000103f0d9cfb60f  D'aww! He matches this background colour I'm s...      0   \n",
       "2  000113f07ec002fd  Hey man, I'm really not trying to edit war. It...      0   \n",
       "3  0001b41b1c6bb37e  \"\\nMore\\nI can't make any real suggestions on ...      0   \n",
       "4  0001d958c54c6e35  You, sir, are my hero. Any chance you remember...      0   \n",
       "\n",
       "   severe_toxic  obscene  threat  insult  identity_hate  \n",
       "0             0        0       0       0              0  \n",
       "1             0        0       0       0              0  \n",
       "2             0        0       0       0              0  \n",
       "3             0        0       0       0              0  \n",
       "4             0        0       0       0              0  "
      ]
     },
     "execution_count": 2,
     "metadata": {},
     "output_type": "execute_result"
    }
   ],
   "source": [
    "# Load data from CSV file into Pandas dataframe\n",
    "df = pd.read_csv(\"./data/train.csv\")\n",
    "\n",
    "df.head()"
   ]
  },
  {
   "cell_type": "markdown",
   "id": "179f7c4d-8f2a-4623-85c2-5bb512aff1ca",
   "metadata": {},
   "source": [
    "Here, we can see that the dataset contains the following columns:\n",
    "\n",
    "1. `id` - unique identifier for each sample in the dataset.\n",
    "2. `comment_text` - the text content of each comment.\n",
    "3. `toxic` - whether the comment is toxic (1) or not (0).\n",
    "4. `severe_toxic` - whether the comment is toxic (1) or not (0).\n",
    "5. `obscene` - whether the comment is obscene (1) or not (0).\n",
    "6. `threat` - whether the comment includes a threat (1) or not (0).\n",
    "7. `insult` - whether the comment includes an insult (1) or not (0).\n",
    "8. `identity_hate` - whether the comment includes identity hate such as racism (1) or not (0).\n",
    "\n",
    "Thus, it appears we have a **multiclass classification** problem."
   ]
  },
  {
   "cell_type": "markdown",
   "id": "c9856079-e504-4336-be40-abac0e0bc26b",
   "metadata": {},
   "source": [
    "---"
   ]
  },
  {
   "cell_type": "markdown",
   "id": "30a413fe-aed4-44ca-b757-e8dde31c56d9",
   "metadata": {},
   "source": [
    "## 2. Exploratory Data Analysis\n",
    "\n",
    "We can begin EDA by inspecting the dataset for how much data it contains, as well as whether any columns contain missing values, using `df.info()`."
   ]
  },
  {
   "cell_type": "code",
   "execution_count": 3,
   "id": "85554e14-b21c-46c6-853c-20b45fc083fc",
   "metadata": {},
   "outputs": [
    {
     "name": "stdout",
     "output_type": "stream",
     "text": [
      "<class 'pandas.core.frame.DataFrame'>\n",
      "RangeIndex: 159571 entries, 0 to 159570\n",
      "Data columns (total 8 columns):\n",
      " #   Column         Non-Null Count   Dtype \n",
      "---  ------         --------------   ----- \n",
      " 0   id             159571 non-null  object\n",
      " 1   comment_text   159571 non-null  object\n",
      " 2   toxic          159571 non-null  int64 \n",
      " 3   severe_toxic   159571 non-null  int64 \n",
      " 4   obscene        159571 non-null  int64 \n",
      " 5   threat         159571 non-null  int64 \n",
      " 6   insult         159571 non-null  int64 \n",
      " 7   identity_hate  159571 non-null  int64 \n",
      "dtypes: int64(6), object(2)\n",
      "memory usage: 9.7+ MB\n"
     ]
    }
   ],
   "source": [
    "# Get overview of data\n",
    "df.info()"
   ]
  },
  {
   "cell_type": "markdown",
   "id": "d83c22f2-713f-480d-8082-d3b6754245d6",
   "metadata": {},
   "source": [
    "We can also retrieve a statistical summary of each column of the dataset (e.g. mean, standard deviation etc.) using `df.describe()`. "
   ]
  },
  {
   "cell_type": "code",
   "execution_count": 4,
   "id": "40d0524f-75a5-4e51-8fce-3e018227cfdd",
   "metadata": {
    "scrolled": true
   },
   "outputs": [
    {
     "data": {
      "text/html": [
       "<div>\n",
       "<style scoped>\n",
       "    .dataframe tbody tr th:only-of-type {\n",
       "        vertical-align: middle;\n",
       "    }\n",
       "\n",
       "    .dataframe tbody tr th {\n",
       "        vertical-align: top;\n",
       "    }\n",
       "\n",
       "    .dataframe thead th {\n",
       "        text-align: right;\n",
       "    }\n",
       "</style>\n",
       "<table border=\"1\" class=\"dataframe\">\n",
       "  <thead>\n",
       "    <tr style=\"text-align: right;\">\n",
       "      <th></th>\n",
       "      <th>toxic</th>\n",
       "      <th>severe_toxic</th>\n",
       "      <th>obscene</th>\n",
       "      <th>threat</th>\n",
       "      <th>insult</th>\n",
       "      <th>identity_hate</th>\n",
       "    </tr>\n",
       "  </thead>\n",
       "  <tbody>\n",
       "    <tr>\n",
       "      <th>count</th>\n",
       "      <td>159571.000000</td>\n",
       "      <td>159571.000000</td>\n",
       "      <td>159571.000000</td>\n",
       "      <td>159571.000000</td>\n",
       "      <td>159571.000000</td>\n",
       "      <td>159571.000000</td>\n",
       "    </tr>\n",
       "    <tr>\n",
       "      <th>mean</th>\n",
       "      <td>0.095844</td>\n",
       "      <td>0.009996</td>\n",
       "      <td>0.052948</td>\n",
       "      <td>0.002996</td>\n",
       "      <td>0.049364</td>\n",
       "      <td>0.008805</td>\n",
       "    </tr>\n",
       "    <tr>\n",
       "      <th>std</th>\n",
       "      <td>0.294379</td>\n",
       "      <td>0.099477</td>\n",
       "      <td>0.223931</td>\n",
       "      <td>0.054650</td>\n",
       "      <td>0.216627</td>\n",
       "      <td>0.093420</td>\n",
       "    </tr>\n",
       "    <tr>\n",
       "      <th>min</th>\n",
       "      <td>0.000000</td>\n",
       "      <td>0.000000</td>\n",
       "      <td>0.000000</td>\n",
       "      <td>0.000000</td>\n",
       "      <td>0.000000</td>\n",
       "      <td>0.000000</td>\n",
       "    </tr>\n",
       "    <tr>\n",
       "      <th>25%</th>\n",
       "      <td>0.000000</td>\n",
       "      <td>0.000000</td>\n",
       "      <td>0.000000</td>\n",
       "      <td>0.000000</td>\n",
       "      <td>0.000000</td>\n",
       "      <td>0.000000</td>\n",
       "    </tr>\n",
       "    <tr>\n",
       "      <th>50%</th>\n",
       "      <td>0.000000</td>\n",
       "      <td>0.000000</td>\n",
       "      <td>0.000000</td>\n",
       "      <td>0.000000</td>\n",
       "      <td>0.000000</td>\n",
       "      <td>0.000000</td>\n",
       "    </tr>\n",
       "    <tr>\n",
       "      <th>75%</th>\n",
       "      <td>0.000000</td>\n",
       "      <td>0.000000</td>\n",
       "      <td>0.000000</td>\n",
       "      <td>0.000000</td>\n",
       "      <td>0.000000</td>\n",
       "      <td>0.000000</td>\n",
       "    </tr>\n",
       "    <tr>\n",
       "      <th>max</th>\n",
       "      <td>1.000000</td>\n",
       "      <td>1.000000</td>\n",
       "      <td>1.000000</td>\n",
       "      <td>1.000000</td>\n",
       "      <td>1.000000</td>\n",
       "      <td>1.000000</td>\n",
       "    </tr>\n",
       "  </tbody>\n",
       "</table>\n",
       "</div>"
      ],
      "text/plain": [
       "               toxic   severe_toxic        obscene         threat  \\\n",
       "count  159571.000000  159571.000000  159571.000000  159571.000000   \n",
       "mean        0.095844       0.009996       0.052948       0.002996   \n",
       "std         0.294379       0.099477       0.223931       0.054650   \n",
       "min         0.000000       0.000000       0.000000       0.000000   \n",
       "25%         0.000000       0.000000       0.000000       0.000000   \n",
       "50%         0.000000       0.000000       0.000000       0.000000   \n",
       "75%         0.000000       0.000000       0.000000       0.000000   \n",
       "max         1.000000       1.000000       1.000000       1.000000   \n",
       "\n",
       "              insult  identity_hate  \n",
       "count  159571.000000  159571.000000  \n",
       "mean        0.049364       0.008805  \n",
       "std         0.216627       0.093420  \n",
       "min         0.000000       0.000000  \n",
       "25%         0.000000       0.000000  \n",
       "50%         0.000000       0.000000  \n",
       "75%         0.000000       0.000000  \n",
       "max         1.000000       1.000000  "
      ]
     },
     "execution_count": 4,
     "metadata": {},
     "output_type": "execute_result"
    }
   ],
   "source": [
    "# Get statistical summary of data\n",
    "df.describe()"
   ]
  },
  {
   "cell_type": "markdown",
   "id": "ec602ae4-e778-4a44-b459-0a2cba88f407",
   "metadata": {},
   "source": [
    "We can also visualize how much data in each target variable column belongs to either `0` or `1`."
   ]
  },
  {
   "cell_type": "code",
   "execution_count": 5,
   "id": "8ae10fc9-907d-47a2-a58b-067cd7d8fc72",
   "metadata": {},
   "outputs": [
    {
     "data": {
      "image/png": "[encoded data removed]",
      "text/plain": [
       "<Figure size 1500x1000 with 6 Axes>"
      ]
     },
     "metadata": {},
     "output_type": "display_data"
    }
   ],
   "source": [
    "# Select the target columns\n",
    "target_cols = ['toxic', 'severe_toxic', 'obscene', 'threat', 'insult', 'identity_hate']\n",
    "\n",
    "# Count occurrences of 0s and 1s\n",
    "counts = {col: df[col].value_counts().sort_index() for col in target_cols}\n",
    "\n",
    "# Plot bar charts\n",
    "fig, axes = plt.subplots(2, 3, figsize=(15, 10))  # Arrange in 2 rows, 3 columns\n",
    "axes = axes.flatten()  # Flatten for easy looping\n",
    "\n",
    "for i, col in enumerate(target_cols):\n",
    "    axes[i].bar(counts[col].index, counts[col].values, color=['blue', 'red'], width=0.4)\n",
    "    axes[i].set_title(f\"Distribution of {col}\")\n",
    "    axes[i].set_xticks([0, 1])\n",
    "    axes[i].set_xticklabels([\"Not Present (0)\", \"Present (1)\"])\n",
    "    axes[i].set_ylabel(\"Count\")\n",
    "    axes[i].set_xlabel(\"Class\")\n",
    "\n",
    "# Adjust layout for better spacing\n",
    "plt.tight_layout()\n",
    "\n",
    "plt.show()"
   ]
  },
  {
   "cell_type": "markdown",
   "id": "4127de8a-b78e-46de-aaba-bfdefb49e640",
   "metadata": {},
   "source": [
    "---"
   ]
  },
  {
   "cell_type": "markdown",
   "id": "9500b4f8-e667-4871-b37b-ac12d28997b9",
   "metadata": {},
   "source": [
    "## 3. Data Preprocessing\n",
    "\n",
    "Here, we will follow a simple but effective data preprocessing pipeline, which includes the following steps:\n",
    "\n",
    "1. Creating a vocabulary using `torchtext`.\n",
    "2. Splitting data for training and validation.\n",
    "3. Defining the data loaders for training and validation."
   ]
  },
  {
   "cell_type": "markdown",
   "id": "695527a2-4e38-4a27-b2a3-3b9f3c5a5ba8",
   "metadata": {},
   "source": [
    "---"
   ]
  },
  {
   "cell_type": "markdown",
   "id": "8262bc7d-0675-4bc5-8d81-ff74c2f91d79",
   "metadata": {},
   "source": [
    "### The Tokenizer\n",
    "\n",
    "We start by instantiating a **tokenizer** using `get_tokenizer` from `torchtext.data.utils`"
   ]
  },
  {
   "cell_type": "code",
   "execution_count": 6,
   "id": "2c15c39c-ffdb-4075-a899-da6a1cae3d50",
   "metadata": {},
   "outputs": [],
   "source": [
    "# Initialize tokenizer\n",
    "tokenizer = get_tokenizer(\"basic_english\")"
   ]
  },
  {
   "cell_type": "markdown",
   "id": "8f2d6f25-2234-42db-8810-abb3f2bc0499",
   "metadata": {},
   "source": [
    "We can test this tokenizer out by passing a sample comment from the dataset through it."
   ]
  },
  {
   "cell_type": "code",
   "execution_count": 7,
   "id": "48b7be2b-eba0-43c5-9793-f7c87da7f474",
   "metadata": {},
   "outputs": [
    {
     "name": "stdout",
     "output_type": "stream",
     "text": [
      "Sample comment before tokenization: Explanation\n",
      "Why the edits made under my username Hardcore Metallica Fan were reverted? They weren't vandalisms, just closure on some GAs after I voted at New York Dolls FAC. And please don't remove the template from the talk page since I'm retired now.89.205.38.27\n",
      "\n",
      "\n",
      "Sample comment after tokenization: ['explanation', 'why', 'the', 'edits', 'made', 'under', 'my', 'username', 'hardcore', 'metallica', 'fan', 'were', 'reverted', '?', 'they', 'weren', \"'\", 't', 'vandalisms', ',', 'just', 'closure', 'on', 'some', 'gas', 'after', 'i', 'voted', 'at', 'new', 'york', 'dolls', 'fac', '.', 'and', 'please', 'don', \"'\", 't', 'remove', 'the', 'template', 'from', 'the', 'talk', 'page', 'since', 'i', \"'\", 'm', 'retired', 'now', '.', '89', '.', '205', '.', '38', '.', '27']\n"
     ]
    }
   ],
   "source": [
    "# Get comment text content of first sample in dataset\n",
    "sample_comment = df[\"comment_text\"].values[0]\n",
    "print(f\"Sample comment before tokenization: {sample_comment}\\n\\n\")\n",
    "\n",
    "# Get tokens for sample comment\n",
    "sample_comment_tokenized = tokenizer(sample_comment)\n",
    "print(f\"Sample comment after tokenization: {sample_comment_tokenized}\")"
   ]
  },
  {
   "cell_type": "markdown",
   "id": "47ecaf03-4e76-43b5-aea9-d8f455e504c7",
   "metadata": {},
   "source": [
    "---"
   ]
  },
  {
   "cell_type": "markdown",
   "id": "e5986812-a129-4d30-b63d-89fadfa0ca1b",
   "metadata": {},
   "source": [
    "### Creating The Vocabulary\n",
    "\n",
    "We can create a vocabulary of words using `build_vocab_from_iterator()` from `torchtext.vocab`. For this, we have to define:\n",
    "\n",
    "1. The vocabulary's size (the number of words in the vocabulary)\n",
    "2. The unknown token\n",
    "3. The padding token"
   ]
  },
  {
   "cell_type": "code",
   "execution_count": 8,
   "id": "9a737d61-bb10-4714-aa19-a90c031f119b",
   "metadata": {},
   "outputs": [],
   "source": [
    "# Define vocabulary size\n",
    "VOCAB_SIZE = 1500\n",
    "\n",
    "# Define unknown token and padding token\n",
    "unk_token = \"<unk>\"\n",
    "pad_token = \"<pad>\""
   ]
  },
  {
   "cell_type": "markdown",
   "id": "2a613c6c-eb88-4acb-a7fe-f6a51a3f3d7b",
   "metadata": {},
   "source": [
    "Now, we can build the vocabulary after converting all of the comments in the dataset into tokens."
   ]
  },
  {
   "cell_type": "code",
   "execution_count": 9,
   "id": "5e82bf0f-2c3f-4e2d-a1a3-a867ac2b6bf5",
   "metadata": {},
   "outputs": [
    {
     "name": "stdout",
     "output_type": "stream",
     "text": [
      "Preview of comment tokens: \n",
      "0    [explanation, why, the, edits, made, under, my...\n",
      "1    [d, ', aww, !, he, matches, this, background, ...\n",
      "2    [hey, man, ,, i, ', m, really, not, trying, to...\n",
      "3    [more, i, can, ', t, make, any, real, suggesti...\n",
      "4    [you, ,, sir, ,, are, my, hero, ., any, chance...\n",
      "Name: comment_text, dtype: object\n",
      "\n",
      "\n",
      "Location of the word 'experience' in the vocabulary: 1078\n",
      "Location of the unknown token in the vocabulary: 0\n",
      "Location of the padding token in the vocabulary: 1\n"
     ]
    }
   ],
   "source": [
    "# Tokenize all comments in the dataset\n",
    "comment_tokens = df[\"comment_text\"].map(tokenizer)\n",
    "\n",
    "print(f\"Preview of comment tokens: \\n{comment_tokens.head()}\\n\\n\")\n",
    "\n",
    "# Build vocabulary from tokenized comments\n",
    "vocab = build_vocab_from_iterator(\n",
    "    iterator=comment_tokens,\n",
    "    specials=[unk_token, pad_token],\n",
    "    max_tokens=VOCAB_SIZE,\n",
    ")\n",
    "\n",
    "# Inspect location of a sample word in the vocabulary\n",
    "print(f\"Location of the word 'experience' in the vocabulary: {vocab[\"experience\"]}\")\n",
    "\n",
    "# Inspect location of the unknown token and padding token in the vocabulary\n",
    "print(f\"Location of the unknown token in the vocabulary: {vocab[unk_token]}\")\n",
    "print(f\"Location of the padding token in the vocabulary: {vocab[pad_token]}\")"
   ]
  },
  {
   "cell_type": "markdown",
   "id": "eb243c14-9d85-4ced-953d-a0dff107652a",
   "metadata": {},
   "source": [
    "We must also set the default token for unknown words that are not part of the vocabulary as `unk_token`."
   ]
  },
  {
   "cell_type": "code",
   "execution_count": 10,
   "id": "2b7392b6-a39a-49f6-8e8c-38b3f97a9d8c",
   "metadata": {},
   "outputs": [
    {
     "data": {
      "text/plain": [
       "0"
      ]
     },
     "execution_count": 10,
     "metadata": {},
     "output_type": "execute_result"
    }
   ],
   "source": [
    "# Set default token for unknown words\n",
    "vocab.set_default_index(vocab[unk_token])\n",
    "\n",
    "# Test with sample unknown word\n",
    "vocab[\"aratchige\"]"
   ]
  },
  {
   "cell_type": "markdown",
   "id": "d7e1af35-169d-497f-81ff-452d0c445d64",
   "metadata": {},
   "source": [
    "We can now confirm that the vocabulary works as intended via an example. Here, we will retrieve the indices for some tokens from the vocabulary, and then use these indices to query the vocabulary and see if the same tokens are retrieved."
   ]
  },
  {
   "cell_type": "code",
   "execution_count": 11,
   "id": "aa0287f1-5587-4bea-b6e6-32df6e511f10",
   "metadata": {},
   "outputs": [
    {
     "name": "stdout",
     "output_type": "stream",
     "text": [
      "Tokens considered for example: ['explanation', 'why', 'the', 'edits', 'made', 'under', 'my', 'username', 'hardcore', 'metallica']\n",
      "Indices of example tokens: [667, 85, 3, 140, 142, 185, 39, 663, 0, 0]\n",
      "Tokens retrieved from fetched indices: ['explanation', 'why', 'the', 'edits', 'made', 'under', 'my', 'username', '<unk>', '<unk>']\n"
     ]
    }
   ],
   "source": [
    "# Get example tokens for testing vocabulary (first 10 words of first comment in the dataset)\n",
    "example_tokens = tokenizer(df[\"comment_text\"].values[0])[:10]\n",
    "print(f\"Tokens considered for example: {example_tokens}\")\n",
    "\n",
    "# Fetch indices of above example tokens\n",
    "example_indices = vocab.lookup_indices(example_tokens)\n",
    "print(f\"Indices of example tokens: {example_indices}\")\n",
    "\n",
    "# Retrieve tokens from vocab based on above fetched indices\n",
    "example_tokens_from_indices = vocab.lookup_tokens(example_indices)\n",
    "print(f\"Tokens retrieved from fetched indices: {example_tokens_from_indices}\")"
   ]
  },
  {
   "cell_type": "markdown",
   "id": "e676c1e3-6847-4946-a163-8bac06265144",
   "metadata": {},
   "source": [
    "Here, we can see that, apart from a few tokens such as `hardcore` and `metallica` (which may have been excluded due to the small `VOCAB_SIZE` of `1500`), the rest of the tokens can be successfully fetched from the vocabulary."
   ]
  },
  {
   "cell_type": "markdown",
   "id": "9d420518-d011-4743-985f-e6e829301bcf",
   "metadata": {},
   "source": [
    "---"
   ]
  },
  {
   "cell_type": "markdown",
   "id": "6cb406c1-ccae-46c5-b913-a34ff8fc618d",
   "metadata": {},
   "source": [
    "### Creating the Datasets\n",
    "\n",
    "In this step, we will create the training, validation and testing datasets needed to train and evaluate the deep learning model.\n",
    "\n",
    "Before this, we must perform a crucial preprocessing step on the comments in the dataset - truncating unnecessarily long comments and adding padding tokens to sentences that are too short. We can write a helper function for this as given below."
   ]
  },
  {
   "cell_type": "markdown",
   "id": "f4bcc655-1150-43cb-b600-3029f3ac6744",
   "metadata": {},
   "source": [
    "Before this, we must perform a crucial preprocessing step on the comments in the dataset - truncating unnecessarily long comments and adding padding tokens to sentences that are too short. We can write a helper function for this as given below."
   ]
  },
  {
   "cell_type": "code",
   "execution_count": 12,
   "id": "24892250-583b-40e9-9cb5-bccea06011fe",
   "metadata": {},
   "outputs": [],
   "source": [
    "# Define function to truncate and process comments (for creating datasets)\n",
    "def process_tokenized_comments(tokens):\n",
    "    if len(tokens) > MAX_LENGTH:\n",
    "        # Truncate comment\n",
    "        return tokens[:MAX_LENGTH]\n",
    "    else:\n",
    "        # Pad comment\n",
    "        return tokens + ([pad_token] * (MAX_LENGTH - len(tokens)))"
   ]
  },
  {
   "cell_type": "markdown",
   "id": "59594ed1-f994-4225-8ef2-44d3d49882ea",
   "metadata": {},
   "source": [
    "We can inspect whether this helper function works as intended via an example."
   ]
  },
  {
   "cell_type": "code",
   "execution_count": 13,
   "id": "5dc9770d-2208-4b68-bc25-886249726474",
   "metadata": {},
   "outputs": [
    {
     "name": "stdout",
     "output_type": "stream",
     "text": [
      "Example comment before truncation: This is a random comment I felt like writing for you.\n",
      "Truncated example comment: ['this', 'is', 'a', 'random', 'comment']\n",
      "\n",
      "Example comment before padding: What ya doin\n",
      "Padded example comment: ['what', 'ya', 'doin', '<pad>', '<pad>']\n"
     ]
    }
   ],
   "source": [
    "# Example usage of helper function\n",
    "\n",
    "# Set example max length for sentences\n",
    "MAX_LENGTH = 5\n",
    "\n",
    "# Truncation example\n",
    "comment_to_truncate = \"This is a random comment I felt like writing for you.\"\n",
    "print(f\"Example comment before truncation: {comment_to_truncate}\")\n",
    "truncated_comment = process_tokenized_comments(tokenizer(comment_to_truncate))\n",
    "print(f\"Truncated example comment: {truncated_comment}\\n\")\n",
    "\n",
    "# Padding example\n",
    "comment_to_pad = \"What ya doin\"\n",
    "print(f\"Example comment before padding: {comment_to_pad}\")\n",
    "padded_comment = process_tokenized_comments(tokenizer(comment_to_pad))\n",
    "print(f\"Padded example comment: {padded_comment}\")"
   ]
  },
  {
   "cell_type": "markdown",
   "id": "319552b5-8a73-4db5-9a90-7c7f1d88fe64",
   "metadata": {},
   "source": [
    "To determine a reasonable comment length for processing as such, we can inspect the distribution of the lengths of the comments in the dataset. Here, we will select 1000 random comments from the data, as the entire dataset is too large for inspection."
   ]
  },
  {
   "cell_type": "code",
   "execution_count": 14,
   "id": "9eae33e9-f0a0-48b4-bcc6-060c336a63c8",
   "metadata": {},
   "outputs": [
    {
     "data": {
      "image/png": "[encoded data removed]",
      "text/plain": [
       "<Figure size 640x480 with 1 Axes>"
      ]
     },
     "metadata": {},
     "output_type": "display_data"
    }
   ],
   "source": [
    "# Get random sample of 1000 comments from the data\n",
    "sample_comments = df[\"comment_text\"].sample(1000)\n",
    "\n",
    "# Tokenize retrieved sample of comments, and get lengths of each tokenized comments\n",
    "tokenized_comments = sample_comments.map(tokenizer)\n",
    "token_lengths = tokenized_comments.map(len)\n",
    "\n",
    "plt.hist(token_lengths)\n",
    "plt.title('Distribution of Comment Token Lengths')\n",
    "plt.xlabel('Number of Tokens')\n",
    "plt.ylabel('Density')\n",
    "plt.show()"
   ]
  },
  {
   "cell_type": "markdown",
   "id": "ebea303b-29ef-4cad-8148-d30f9e5a63e6",
   "metadata": {},
   "source": [
    "Here, we can see that the majority of the comments are less than 400 tokens, so we will set the `MAX_LENGTH` of sentences as `400`. Anything shorter wil be padded, and anything longer will be truncated."
   ]
  },
  {
   "cell_type": "code",
   "execution_count": 15,
   "id": "711ade42-20fb-4be1-9033-09f6a391a6d8",
   "metadata": {},
   "outputs": [],
   "source": [
    "# Set max length for sentences\n",
    "MAX_LENGTH = 150"
   ]
  },
  {
   "cell_type": "markdown",
   "id": "58e85e29-940f-4d2c-884c-8e16f2175505",
   "metadata": {},
   "source": [
    "To create separate datasets for training and validation, we must create a custom **Dataset class** which subclasses `torch.utils.data.Dataset`. This custom dataset class must implement the `__init__()`, `__getitem__()` and `__len__()` methods from the base class (see [PyTorch docs](https://pytorch.org/docs/stable/data.html#torch.utils.data.Dataset))."
   ]
  },
  {
   "cell_type": "code",
   "execution_count": 16,
   "id": "4e8ee80c-c1c4-406d-8eb5-25ac8fbbf6b5",
   "metadata": {},
   "outputs": [
    {
     "data": {
      "text/plain": [
       "(tensor([ 667,   85,    3,  140,  142,  185,   39,  663,    0,    0, 1287,   96,\n",
       "          329,   27,   57,    0,    9,   31,    0,    4,   61,    0,   21,   71,\n",
       "            0,  158,    6,    0,   45,  130, 1167,    0,    0,    2,    8,   55,\n",
       "           70,    9,   31,  253,    3,  369,   41,    3,   50,   38,  155,    6,\n",
       "            9,   81,    0,   99,    2,    0,    2,    0,    2,    0,    2, 1122,\n",
       "            1,    1,    1,    1,    1,    1,    1,    1,    1,    1,    1,    1,\n",
       "            1,    1,    1,    1,    1,    1,    1,    1,    1,    1,    1,    1,\n",
       "            1,    1,    1,    1,    1,    1,    1,    1,    1,    1,    1,    1,\n",
       "            1,    1,    1,    1,    1,    1,    1,    1,    1,    1,    1,    1,\n",
       "            1,    1,    1,    1,    1,    1,    1,    1,    1,    1,    1,    1,\n",
       "            1,    1,    1,    1,    1,    1,    1,    1,    1,    1,    1,    1,\n",
       "            1,    1,    1,    1,    1,    1,    1,    1,    1,    1,    1,    1,\n",
       "            1,    1,    1,    1,    1,    1]),\n",
       " tensor([0., 0., 0., 0., 0., 0.]))"
      ]
     },
     "execution_count": 16,
     "metadata": {},
     "output_type": "execute_result"
    }
   ],
   "source": [
    "# Custom dataset class\n",
    "class ToxicCommentDataset(Dataset):\n",
    "    def __init__(self, df, testing=False):\n",
    "        super().__init__()\n",
    "        self.df = df\n",
    "        self.testing = testing\n",
    "\n",
    "    def __getitem__(self, idx):\n",
    "        # Get text of relevant comment from dataframe\n",
    "        text = self.df[\"comment_text\"].values[idx]\n",
    "\n",
    "        # Get tokens for retrieved comment's text\n",
    "        tokens = process_tokenized_comments(tokenizer(text))\n",
    "\n",
    "        input_ = torch.tensor(vocab.lookup_indices(tokens))\n",
    "\n",
    "        if self.testing:\n",
    "            target = torch.zeros(6).float()\n",
    "        else:\n",
    "            target = torch.tensor(self.df[target_cols].values[idx]).float()\n",
    "\n",
    "        return input_, target\n",
    "\n",
    "    def __len__(self):\n",
    "        return len(self.df)\n",
    "\n",
    "# Initialize dataset\n",
    "dataset = ToxicCommentDataset(df)\n",
    "dataset[0]"
   ]
  },
  {
   "cell_type": "markdown",
   "id": "19a9b864-35e3-4b06-b081-bce886c4c6c2",
   "metadata": {},
   "source": [
    "Next, we can split this dataset for **training** and **validation** separately using the `random_split()` method from `torch.utils.data`. We will use an **80/20** split here."
   ]
  },
  {
   "cell_type": "code",
   "execution_count": 17,
   "id": "6f42bf6a-997d-415e-ba7b-dfc99a028490",
   "metadata": {},
   "outputs": [],
   "source": [
    "# Set dataset split ratio (80% for training)\n",
    "training_data_ratio = 0.8\n",
    "\n",
    "# Split dataset for training and validation\n",
    "train_dataset, val_dataset = random_split(dataset, [training_data_ratio, (1 - training_data_ratio)])"
   ]
  },
  {
   "cell_type": "markdown",
   "id": "d9a4862e-552f-42e5-b93b-7c3ffee282de",
   "metadata": {},
   "source": [
    "In the meantime, we can also create a testing dataset, which can be used later to evaluate model performance."
   ]
  },
  {
   "cell_type": "code",
   "execution_count": 18,
   "id": "3ac3880d-a00a-4ccb-ae27-519d4c89d998",
   "metadata": {},
   "outputs": [
    {
     "data": {
      "text/plain": [
       "(tensor([ 667,   85,    3,  140,  142,  185,   39,  663,    0,    0, 1287,   96,\n",
       "          329,   27,   57,    0,    9,   31,    0,    4,   61,    0,   21,   71,\n",
       "            0,  158,    6,    0,   45,  130, 1167,    0,    0,    2,    8,   55,\n",
       "           70,    9,   31,  253,    3,  369,   41,    3,   50,   38,  155,    6,\n",
       "            9,   81,    0,   99,    2,    0,    2,    0,    2,    0,    2, 1122,\n",
       "            1,    1,    1,    1,    1,    1,    1,    1,    1,    1,    1,    1,\n",
       "            1,    1,    1,    1,    1,    1,    1,    1,    1,    1,    1,    1,\n",
       "            1,    1,    1,    1,    1,    1,    1,    1,    1,    1,    1,    1,\n",
       "            1,    1,    1,    1,    1,    1,    1,    1,    1,    1,    1,    1,\n",
       "            1,    1,    1,    1,    1,    1,    1,    1,    1,    1,    1,    1,\n",
       "            1,    1,    1,    1,    1,    1,    1,    1,    1,    1,    1,    1,\n",
       "            1,    1,    1,    1,    1,    1,    1,    1,    1,    1,    1,    1,\n",
       "            1,    1,    1,    1,    1,    1]),\n",
       " tensor([0., 0., 0., 0., 0., 0.]))"
      ]
     },
     "execution_count": 18,
     "metadata": {},
     "output_type": "execute_result"
    }
   ],
   "source": [
    "# Load testing data from CSV file\n",
    "test_df = pd.read_csv(\"./data/test.csv\")\n",
    "\n",
    "# Create test dataset from loaded data\n",
    "test_dataset = ToxicCommentDataset(test_df, testing=True)\n",
    "\n",
    "# Inspect a sample of the test dataset\n",
    "dataset[0]"
   ]
  },
  {
   "cell_type": "markdown",
   "id": "c756abbe-8bd9-46bd-8ac8-eac7e0d24447",
   "metadata": {},
   "source": [
    "---"
   ]
  },
  {
   "cell_type": "markdown",
   "id": "430c90e0-f4df-4044-a467-60ca1c6dbc37",
   "metadata": {},
   "source": [
    "### Building the Dataloaders\n",
    "\n",
    "Here, we will define the dataloaders for training, validation and testing. We will be using a batch size of `32`."
   ]
  },
  {
   "cell_type": "code",
   "execution_count": 27,
   "id": "dc5d9a04-a7fd-47b7-8f3f-c24bdd440b58",
   "metadata": {},
   "outputs": [],
   "source": [
    "# Set batch size for dataloaders\n",
    "BATCH_SIZE = 64\n",
    "\n",
    "# Define training dataloader\n",
    "train_dataloader = DataLoader(\n",
    "    dataset=train_dataset,\n",
    "    batch_size=BATCH_SIZE,\n",
    "    shuffle=True,\n",
    ")\n",
    "\n",
    "# Define training dataloader\n",
    "val_dataloader = DataLoader(\n",
    "    dataset=val_dataset,\n",
    "    batch_size=BATCH_SIZE,\n",
    "    shuffle=True,\n",
    ")\n",
    "\n",
    "# Define training dataloader\n",
    "test_dataloader = DataLoader(\n",
    "    dataset=test_dataset,\n",
    "    batch_size=BATCH_SIZE,\n",
    ")"
   ]
  },
  {
   "cell_type": "markdown",
   "id": "8c1b3300-6e2c-4804-9b7b-083288c27f03",
   "metadata": {},
   "source": [
    "We can select one of the dataloaders to inspect and verify whether it has been setup correctly. Consider the training dataloader:"
   ]
  },
  {
   "cell_type": "code",
   "execution_count": 20,
   "id": "2150d70f-db83-49b6-9661-9a0094d3ce80",
   "metadata": {},
   "outputs": [
    {
     "name": "stdout",
     "output_type": "stream",
     "text": [
      "a_input shape: torch.Size([32, 150]), a_target shape: torch.Size([32, 6])\n",
      "a_input dtype: torch.int64, a_target dtype: torch.float32\n"
     ]
    }
   ],
   "source": [
    "for a_input, a_target in train_dataloader:\n",
    "    print(f\"a_input shape: {a_input.shape}, a_target shape: {a_target.shape}\")\n",
    "    print(f\"a_input dtype: {a_input.dtype}, a_target dtype: {a_target.dtype}\")\n",
    "    break"
   ]
  },
  {
   "cell_type": "markdown",
   "id": "1ddadfc4-e5cb-4dac-beaa-5162661ff4c1",
   "metadata": {},
   "source": [
    "---"
   ]
  },
  {
   "cell_type": "markdown",
   "id": "6b6cd740-9258-47e9-a873-326c9e4e6399",
   "metadata": {},
   "source": [
    "## 4. Model Building\n",
    "\n",
    "For this task, we will be building and training an **RNN** (**Recurrent Neural Network**). More specifically, we will be building a special type of RNN known as an **LSTM** (**Long Short Term Memory**) model."
   ]
  },
  {
   "cell_type": "code",
   "execution_count": 33,
   "id": "45102ad7-9b69-491b-b93a-74dc102ea130",
   "metadata": {},
   "outputs": [],
   "source": [
    "import torch\n",
    "import torch.nn as nn\n",
    "import torch.nn.functional as F\n",
    "import numpy as np\n",
    "\n",
    "class ToxicCommentClassifier(nn.Module):\n",
    "    def __init__(self, vocab_size=1500):\n",
    "        super(ToxicCommentClassifier, self).__init__()\n",
    "        self.emb = nn.Embedding(vocab_size, 256, padding_idx=1)\n",
    "        self.lstm = nn.LSTM(256, 128, 1, batch_first=True)\n",
    "        self.fc1 = nn.Linear(128, 6)  # 6 output classes (multi-class classification)\n",
    "\n",
    "    def forward(self, x):\n",
    "        out = self.emb(x)  # Embedding lookup\n",
    "        out, (hn, cn) = self.lstm(out)  # LSTM output\n",
    "        out = F.relu(out[:, -1, :])  # Get the last hidden state (-1)\n",
    "        out = self.fc1(out)  # Linear layer for classification\n",
    "        return out"
   ]
  },
  {
   "cell_type": "code",
   "execution_count": 34,
   "id": "e9918577-c363-40d2-bf2f-1f8cfb6d9c8f",
   "metadata": {},
   "outputs": [],
   "source": [
    "# Hyperparameters\n",
    "EPOCHS = 10\n",
    "LEARNING_RATE = 0.01\n",
    "DEVICE = \"cuda\" if torch.cuda.is_available() else \"cpu\"\n",
    "\n",
    "# Initialize model, loss function, and optimizer\n",
    "model = ToxicCommentClassifier(vocab_size=1500).to(DEVICE)\n",
    "criterion = nn.BCEWithLogitsLoss()  # Suitable for multi-class classification\n",
    "optimizer = torch.optim.Adam(model.parameters(), lr=LEARNING_RATE)"
   ]
  },
  {
   "cell_type": "code",
   "execution_count": 28,
   "id": "81fb1e38-1585-4fa9-8496-199ee04194e2",
   "metadata": {},
   "outputs": [],
   "source": [
    "def train_model(model, train_loader, optimizer, criterion, device):\n",
    "    model.train()  # Set model to training mode\n",
    "    total_loss = 0\n",
    "\n",
    "    for batch in train_loader:\n",
    "        inputs, targets = batch\n",
    "        inputs, targets = inputs.to(device), targets.to(device)\n",
    "\n",
    "        optimizer.zero_grad()  # Clear previous gradients\n",
    "        outputs = model(inputs)  # Forward pass\n",
    "        loss = criterion(outputs, targets)  # Compute loss\n",
    "        loss.backward()  # Backpropagation\n",
    "        optimizer.step()  # Update weights\n",
    "\n",
    "        total_loss += loss.item()\n",
    "\n",
    "    return total_loss / len(train_loader)  # Average loss per batch"
   ]
  },
  {
   "cell_type": "code",
   "execution_count": 24,
   "id": "cae03843-4f4c-48c0-8150-8cae9ca71b4f",
   "metadata": {},
   "outputs": [],
   "source": [
    "def validate_model(model, val_loader, criterion, device):\n",
    "    model.eval()  # Set model to evaluation mode\n",
    "    total_loss = 0\n",
    "\n",
    "    with torch.no_grad():  # No gradient calculations\n",
    "        for batch in val_loader:\n",
    "            inputs, targets = batch\n",
    "            inputs, targets = inputs.to(device), targets.to(device)\n",
    "\n",
    "            outputs = model(inputs)\n",
    "            loss = criterion(outputs, targets)\n",
    "\n",
    "            total_loss += loss.item()\n",
    "\n",
    "    return total_loss / len(val_loader)  # Average loss"
   ]
  },
  {
   "cell_type": "code",
   "execution_count": 29,
   "id": "fe5fcb70-9a26-440b-b9ed-1a346fd82409",
   "metadata": {},
   "outputs": [
    {
     "name": "stdout",
     "output_type": "stream",
     "text": [
      "Epoch 1 started...\n",
      "Epoch 1/10, Train Loss: 0.0996, Val Loss: 0.0792\n",
      "Epoch 2 started...\n",
      "Epoch 2/10, Train Loss: 0.0780, Val Loss: 0.0722\n",
      "Epoch 3 started...\n",
      "Epoch 3/10, Train Loss: 0.0737, Val Loss: 0.0678\n",
      "Epoch 4 started...\n",
      "Epoch 4/10, Train Loss: 0.0683, Val Loss: 0.0681\n",
      "Epoch 5 started...\n",
      "Epoch 5/10, Train Loss: 0.0673, Val Loss: 0.0638\n",
      "Epoch 6 started...\n",
      "Epoch 6/10, Train Loss: 0.0676, Val Loss: 0.0670\n",
      "Epoch 7 started...\n",
      "Epoch 7/10, Train Loss: 0.0676, Val Loss: 0.0633\n",
      "Epoch 8 started...\n",
      "Epoch 8/10, Train Loss: 0.0665, Val Loss: 0.0651\n",
      "Epoch 9 started...\n",
      "Epoch 9/10, Train Loss: 0.0667, Val Loss: 0.0731\n",
      "Epoch 10 started...\n",
      "Epoch 10/10, Train Loss: 0.0717, Val Loss: 0.0672\n"
     ]
    }
   ],
   "source": [
    "for epoch in range(EPOCHS):\n",
    "    print(f\"Epoch {epoch+1} started...\")\n",
    "    train_loss = train_model(model, train_dataloader, optimizer, criterion, DEVICE)\n",
    "    val_loss = validate_model(model, val_dataloader, criterion, DEVICE)\n",
    "\n",
    "    print(f\"Epoch {epoch+1}/{EPOCHS}, Train Loss: {train_loss:.4f}, Val Loss: {val_loss:.4f}\")"
   ]
  },
  {
   "cell_type": "markdown",
   "id": "288ddda8-4ef6-405c-b7cf-84655b2d311a",
   "metadata": {},
   "source": [
    "After training, we can save the model as a `.pth` file."
   ]
  },
  {
   "cell_type": "code",
   "execution_count": 30,
   "id": "d6e25b2d-1a96-4d96-9280-f0c70bf154a9",
   "metadata": {},
   "outputs": [],
   "source": [
    "# Save model\n",
    "torch.save(model.state_dict(), \"model.pth\")"
   ]
  },
  {
   "cell_type": "code",
   "execution_count": 36,
   "id": "00262512-5cc4-4755-9c3b-c12f82b1ca2a",
   "metadata": {},
   "outputs": [
    {
     "name": "stdout",
     "output_type": "stream",
     "text": [
      "Test Loss: 0.7009\n"
     ]
    }
   ],
   "source": [
    "def evaluate_model(model, test_loader, criterion, device):\n",
    "    model.eval()  # Ensure model is in evaluation mode\n",
    "    total_loss = 0.0\n",
    "    all_targets = []\n",
    "    all_predictions = []\n",
    "\n",
    "    with torch.no_grad():  # Disable gradient calculation\n",
    "        for inputs, targets in test_loader:\n",
    "            inputs, targets = inputs.to(device), targets.to(device)\n",
    "            outputs = model(inputs)\n",
    "            probs = torch.sigmoid(outputs)  # Apply sigmoid activation\n",
    "            \n",
    "            loss = criterion(probs, targets)\n",
    "            total_loss += loss.item()\n",
    "\n",
    "            all_targets.append(targets.cpu().numpy())\n",
    "            all_predictions.append(probs.cpu().numpy())\n",
    "\n",
    "    avg_loss = total_loss / len(test_loader)\n",
    "    print(f\"Test Loss: {avg_loss:.4f}\")\n",
    "\n",
    "    return all_targets, all_predictions\n",
    "\n",
    "# Run evaluation\n",
    "all_targets, all_predictions = evaluate_model(model, test_dataloader, F.binary_cross_entropy, DEVICE)"
   ]
  },
  {
   "cell_type": "code",
   "execution_count": 38,
   "id": "fdf7f071-f0e2-4485-90ac-6b4084f3b30d",
   "metadata": {},
   "outputs": [
    {
     "name": "stdout",
     "output_type": "stream",
     "text": [
      "Test ROC-AUC: nan\n",
      "Test Accuracy: 0.0002\n",
      "Test F1-Score: 0.0000\n"
     ]
    },
    {
     "name": "stderr",
     "output_type": "stream",
     "text": [
      "/home/ravindu-aratchige/Documents/Machine Learning/pytorch-crash-course/env/lib/python3.12/site-packages/sklearn/metrics/_ranking.py:379: UndefinedMetricWarning: Only one class is present in y_true. ROC AUC score is not defined in that case.\n",
      "  warnings.warn(\n"
     ]
    }
   ],
   "source": [
    "from sklearn.metrics import accuracy_score, roc_auc_score, f1_score\n",
    "\n",
    "# Convert lists to numpy arrays\n",
    "import numpy as np\n",
    "y_true = np.vstack(all_targets)  # Shape: (num_samples, 6)\n",
    "y_pred = np.vstack(all_predictions)\n",
    "\n",
    "# Convert probabilities to binary (threshold = 0.5)\n",
    "y_pred_binary = (y_pred >= 0.5).astype(int)\n",
    "\n",
    "# Compute metrics\n",
    "roc_auc = roc_auc_score(y_true, y_pred, average='macro')\n",
    "accuracy = accuracy_score(y_true, y_pred_binary)\n",
    "f1 = f1_score(y_true, y_pred_binary, average='macro')\n",
    "\n",
    "print(f\"Test ROC-AUC: {roc_auc:.4f}\")\n",
    "print(f\"Test Accuracy: {accuracy:.4f}\")\n",
    "print(f\"Test F1-Score: {f1:.4f}\")"
   ]
  },
  {
   "cell_type": "code",
   "execution_count": 39,
   "id": "8f7e4bd1-bf0e-4f8c-8776-0d155f6dbdde",
   "metadata": {},
   "outputs": [
    {
     "name": "stdout",
     "output_type": "stream",
     "text": [
      "[[0.4804929  0.521835   0.5008299  0.49781677 0.50727826 0.5125938 ]\n",
      " [0.4804929  0.521835   0.5008299  0.4978167  0.50727826 0.5125938 ]\n",
      " [0.4804929  0.521835   0.5008299  0.49781677 0.50727826 0.5125938 ]\n",
      " [0.4804929  0.521835   0.5008299  0.4978167  0.50727826 0.5125938 ]\n",
      " [0.4804929  0.521835   0.5008299  0.4978167  0.50727826 0.5125938 ]\n",
      " [0.4804929  0.521835   0.5008299  0.4978167  0.50727826 0.5125938 ]\n",
      " [0.4804929  0.521835   0.5008299  0.4978167  0.50727826 0.5125938 ]\n",
      " [0.4804929  0.521835   0.5008299  0.4978167  0.50727826 0.5125938 ]\n",
      " [0.4804929  0.521835   0.5008299  0.4978167  0.50727826 0.5125938 ]\n",
      " [0.4804929  0.521835   0.5008299  0.4978167  0.50727826 0.5125938 ]]\n"
     ]
    }
   ],
   "source": [
    "print(y_pred[:10])"
   ]
  },
  {
   "cell_type": "code",
   "execution_count": 40,
   "id": "971bb905-d868-4451-a149-f775af1c5c14",
   "metadata": {},
   "outputs": [
    {
     "name": "stdout",
     "output_type": "stream",
     "text": [
      "Threshold: 0.3, Positive Predictions: 918984\n",
      "Threshold: 0.4, Positive Predictions: 918984\n",
      "Threshold: 0.5, Positive Predictions: 608286\n",
      "Threshold: 0.6, Positive Predictions: 0\n"
     ]
    }
   ],
   "source": [
    "thresholds = [0.3, 0.4, 0.5, 0.6]\n",
    "for t in thresholds:\n",
    "    y_pred_binary = (y_pred >= t).astype(int)\n",
    "    print(f\"Threshold: {t}, Positive Predictions: {y_pred_binary.sum()}\")"
   ]
  }
 ],
 "metadata": {
  "kernelspec": {
   "display_name": "Python 3 (ipykernel)",
   "language": "python",
   "name": "python3"
  },
  "language_info": {
   "codemirror_mode": {
    "name": "ipython",
    "version": 3
   },
   "file_extension": ".py",
   "mimetype": "text/x-python",
   "name": "python",
   "nbconvert_exporter": "python",
   "pygments_lexer": "ipython3",
   "version": "3.12.3"
  }
 },
 "nbformat": 4,
 "nbformat_minor": 5
}
